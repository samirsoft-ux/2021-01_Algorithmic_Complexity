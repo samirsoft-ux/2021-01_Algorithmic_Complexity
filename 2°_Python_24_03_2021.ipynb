{
  "nbformat": 4,
  "nbformat_minor": 0,
  "metadata": {
    "colab": {
      "name": "2° Python_24/03/2021.ipynb",
      "provenance": [],
      "collapsed_sections": [],
      "authorship_tag": "ABX9TyPfTd0AGrOn90WHEsFBjcSm",
      "include_colab_link": true
    },
    "kernelspec": {
      "name": "python3",
      "display_name": "Python 3"
    },
    "language_info": {
      "name": "python"
    }
  },
  "cells": [
    {
      "cell_type": "markdown",
      "metadata": {
        "id": "view-in-github",
        "colab_type": "text"
      },
      "source": [
        "<a href=\"https://colab.research.google.com/github/samirsoft-ux/2021-01_Algorithmic_Complexity/blob/main/2%C2%B0_Python_24_03_2021.ipynb\" target=\"_parent\"><img src=\"https://colab.research.google.com/assets/colab-badge.svg\" alt=\"Open In Colab\"/></a>"
      ]
    },
    {
      "cell_type": "markdown",
      "metadata": {
        "id": "GNkQn9YiWqBf"
      },
      "source": [
        "## Colecciones"
      ]
    },
    {
      "cell_type": "markdown",
      "metadata": {
        "id": "-ShFRKKBWwCV"
      },
      "source": [
        "## Listas\n",
        "# tecnicamente son arreglos"
      ]
    },
    {
      "cell_type": "markdown",
      "metadata": {
        "id": "pA35JBu1GWRN"
      },
      "source": [
        ""
      ]
    },
    {
      "cell_type": "code",
      "metadata": {
        "id": "0BBIQ8wZXD56"
      },
      "source": [
        "a1 = [1, 2, 3, 4, 5]"
      ],
      "execution_count": null,
      "outputs": []
    },
    {
      "cell_type": "code",
      "metadata": {
        "id": "Kwyuu-YuXMN1"
      },
      "source": [
        "a1.append(5)"
      ],
      "execution_count": null,
      "outputs": []
    },
    {
      "cell_type": "code",
      "metadata": {
        "id": "NTyGfSK9XQDO"
      },
      "source": [
        "a1.append(10)"
      ],
      "execution_count": null,
      "outputs": []
    },
    {
      "cell_type": "code",
      "metadata": {
        "colab": {
          "base_uri": "https://localhost:8080/"
        },
        "id": "0k2ZEAhFXRIw",
        "outputId": "4e35af5a-c740-43d0-cdc2-d3d4d7843ddc"
      },
      "source": [
        "a1"
      ],
      "execution_count": null,
      "outputs": [
        {
          "output_type": "execute_result",
          "data": {
            "text/plain": [
              "[1, 2, 3, 4, 5, 5, 10]"
            ]
          },
          "metadata": {
            "tags": []
          },
          "execution_count": 5
        }
      ]
    },
    {
      "cell_type": "code",
      "metadata": {
        "colab": {
          "base_uri": "https://localhost:8080/"
        },
        "id": "UodECr0DHJdT",
        "outputId": "fc1451c3-6ca4-408c-a3a3-46db28e12478"
      },
      "source": [
        "a2 = [1, \"dos\", 3.4] #esto ya es una lista y es menos eficiente que un arreglo\n",
        "a2"
      ],
      "execution_count": null,
      "outputs": [
        {
          "output_type": "execute_result",
          "data": {
            "text/plain": [
              "[1, 'dos', 3.4]"
            ]
          },
          "metadata": {
            "tags": []
          },
          "execution_count": 1
        }
      ]
    },
    {
      "cell_type": "markdown",
      "metadata": {
        "id": "ScH3P7jsW365"
      },
      "source": [
        "##Sets\n",
        "No tienen elementos repetidos "
      ]
    },
    {
      "cell_type": "code",
      "metadata": {
        "id": "beMqaK1MWiP2"
      },
      "source": [
        "s1 = {1, 2, 3, 4}"
      ],
      "execution_count": null,
      "outputs": []
    },
    {
      "cell_type": "code",
      "metadata": {
        "id": "B-meOCQHXCnB"
      },
      "source": [
        "s1.add(3) # no se agrega al arreglo(técnicamente son listas)\n",
        "# arreglo siempre estaba en un espacio de memoria determinado y listas apuntaba a diferentes espacios de memoria"
      ],
      "execution_count": null,
      "outputs": []
    },
    {
      "cell_type": "code",
      "metadata": {
        "id": "FzirdYVyXYiO"
      },
      "source": [
        "s1.add(10)"
      ],
      "execution_count": null,
      "outputs": []
    },
    {
      "cell_type": "code",
      "metadata": {
        "colab": {
          "base_uri": "https://localhost:8080/"
        },
        "id": "5MEcVQsGXaVL",
        "outputId": "47c41f94-35ff-4e23-ade0-91334c054258"
      },
      "source": [
        "print(s1)"
      ],
      "execution_count": null,
      "outputs": [
        {
          "output_type": "stream",
          "text": [
            "{1, 2, 3, 4, 10}\n"
          ],
          "name": "stdout"
        }
      ]
    },
    {
      "cell_type": "code",
      "metadata": {
        "id": "rZ0wNKyPXbf4"
      },
      "source": [
        ""
      ],
      "execution_count": null,
      "outputs": []
    },
    {
      "cell_type": "markdown",
      "metadata": {
        "id": "Tb0E7tDCHrNN"
      },
      "source": [
        "## Estructuras de control\n",
        "Condicionales"
      ]
    },
    {
      "cell_type": "code",
      "metadata": {
        "colab": {
          "base_uri": "https://localhost:8080/"
        },
        "id": "Nn0Mc0cYHvuL",
        "outputId": "ae881a7b-cd2e-4f3d-8480-d45598a2a80d"
      },
      "source": [
        "if a2[0] == 1:\n",
        "  print(\":)\")"
      ],
      "execution_count": null,
      "outputs": [
        {
          "output_type": "stream",
          "text": [
            ":)\n"
          ],
          "name": "stdout"
        }
      ]
    },
    {
      "cell_type": "code",
      "metadata": {
        "colab": {
          "base_uri": "https://localhost:8080/"
        },
        "id": "af96LQeNH1Zh",
        "outputId": "0921597b-f74c-4da8-d777-73e3246678ba"
      },
      "source": [
        "a = 12\n",
        "\n",
        "if a < 2:\n",
        "  print(\":)\")\n",
        "  print(\"menor a 2\")\n",
        "elif a < 4:\n",
        "  print(\":|\")\n",
        "  print(\"menor a 4\")\n",
        "elif a < 6:\n",
        "  print(\":o\")\n",
        "  print(\"menor a 6\")\n",
        "else:\n",
        "  print(\":(\")\n",
        "  print(\"Ya qué queda!\")\n",
        "\n",
        "print(\"Felicidad\")"
      ],
      "execution_count": null,
      "outputs": [
        {
          "output_type": "stream",
          "text": [
            ":(\n",
            "Ya qué queda!\n",
            "Felicidad\n"
          ],
          "name": "stdout"
        }
      ]
    },
    {
      "cell_type": "markdown",
      "metadata": {
        "id": "-S2Ocr91I8Z9"
      },
      "source": [
        "#Repetitivas"
      ]
    },
    {
      "cell_type": "code",
      "metadata": {
        "colab": {
          "base_uri": "https://localhost:8080/"
        },
        "id": "yw_vS2XcIJo_",
        "outputId": "2a6c8067-aa14-40b0-c675-656c2248370c"
      },
      "source": [
        "while a > 0:\n",
        "  print(a)\n",
        "  a = a - 1\n",
        "# a -= 1"
      ],
      "execution_count": null,
      "outputs": [
        {
          "output_type": "stream",
          "text": [
            "12\n",
            "11\n",
            "10\n",
            "9\n",
            "8\n",
            "7\n",
            "6\n",
            "5\n",
            "4\n",
            "3\n",
            "2\n",
            "1\n"
          ],
          "name": "stdout"
        }
      ]
    },
    {
      "cell_type": "code",
      "metadata": {
        "colab": {
          "base_uri": "https://localhost:8080/"
        },
        "id": "KZYI3_YjJJdT",
        "outputId": "1de200e0-0a17-426f-a24b-c10e3a841976"
      },
      "source": [
        "for i in range(10):\n",
        "  print(i)"
      ],
      "execution_count": null,
      "outputs": [
        {
          "output_type": "stream",
          "text": [
            "0\n",
            "1\n",
            "2\n",
            "3\n",
            "4\n",
            "5\n",
            "6\n",
            "7\n",
            "8\n",
            "9\n"
          ],
          "name": "stdout"
        }
      ]
    },
    {
      "cell_type": "code",
      "metadata": {
        "colab": {
          "base_uri": "https://localhost:8080/"
        },
        "id": "RDwYcPEAJnR8",
        "outputId": "d4aac513-d689-4c6f-9b8b-4eb99a64514d"
      },
      "source": [
        "for i in range(3, 10):\n",
        "  print(i)"
      ],
      "execution_count": null,
      "outputs": [
        {
          "output_type": "stream",
          "text": [
            "3\n",
            "4\n",
            "5\n",
            "6\n",
            "7\n",
            "8\n",
            "9\n"
          ],
          "name": "stdout"
        }
      ]
    },
    {
      "cell_type": "code",
      "metadata": {
        "colab": {
          "base_uri": "https://localhost:8080/"
        },
        "id": "xHFA7DtEJy3P",
        "outputId": "133a1359-7ffd-45ac-fd6d-8f63269c4727"
      },
      "source": [
        "for i in range(6, 1000, 100):\n",
        "  print(i)"
      ],
      "execution_count": null,
      "outputs": [
        {
          "output_type": "stream",
          "text": [
            "6\n",
            "106\n",
            "206\n",
            "306\n",
            "406\n",
            "506\n",
            "606\n",
            "706\n",
            "806\n",
            "906\n"
          ],
          "name": "stdout"
        }
      ]
    },
    {
      "cell_type": "code",
      "metadata": {
        "colab": {
          "base_uri": "https://localhost:8080/"
        },
        "id": "EHzadEqYJ52I",
        "outputId": "9f6faf36-726a-402c-dc0a-60d0841d2e31"
      },
      "source": [
        "for elem in a1:\n",
        "  print(elem)"
      ],
      "execution_count": null,
      "outputs": [
        {
          "output_type": "stream",
          "text": [
            "1\n",
            "2\n",
            "3\n",
            "4\n",
            "5\n"
          ],
          "name": "stdout"
        }
      ]
    },
    {
      "cell_type": "code",
      "metadata": {
        "colab": {
          "base_uri": "https://localhost:8080/"
        },
        "id": "8c0jNX5wKBWb",
        "outputId": "d05ee1df-629b-4814-9a6d-d61bc941e022"
      },
      "source": [
        "for elem in a2:\n",
        "  print(elem)"
      ],
      "execution_count": null,
      "outputs": [
        {
          "output_type": "stream",
          "text": [
            "1\n",
            "dos\n",
            "3.4\n"
          ],
          "name": "stdout"
        }
      ]
    },
    {
      "cell_type": "code",
      "metadata": {
        "colab": {
          "base_uri": "https://localhost:8080/"
        },
        "id": "c02-pwFMKMZC",
        "outputId": "69da2e70-ab3b-4414-c587-82b3074268d8"
      },
      "source": [
        "a3 = [i for i in range(2, 101, 2)]\n",
        "print(a3)"
      ],
      "execution_count": null,
      "outputs": [
        {
          "output_type": "stream",
          "text": [
            "[2, 4, 6, 8, 10, 12, 14, 16, 18, 20, 22, 24, 26, 28, 30, 32, 34, 36, 38, 40, 42, 44, 46, 48, 50, 52, 54, 56, 58, 60, 62, 64, 66, 68, 70, 72, 74, 76, 78, 80, 82, 84, 86, 88, 90, 92, 94, 96, 98, 100]\n"
          ],
          "name": "stdout"
        }
      ]
    },
    {
      "cell_type": "code",
      "metadata": {
        "id": "CWf24RYKKVkU"
      },
      "source": [
        ""
      ],
      "execution_count": null,
      "outputs": []
    }
  ]
}