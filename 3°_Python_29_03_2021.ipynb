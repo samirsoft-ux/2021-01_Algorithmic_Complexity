{
  "nbformat": 4,
  "nbformat_minor": 0,
  "metadata": {
    "colab": {
      "name": "3° Python_29/03/2021.ipynb",
      "provenance": [],
      "collapsed_sections": [],
      "authorship_tag": "ABX9TyNroRSCRY97Kht7d6fX8w4a",
      "include_colab_link": true
    },
    "kernelspec": {
      "name": "python3",
      "display_name": "Python 3"
    },
    "language_info": {
      "name": "python"
    }
  },
  "cells": [
    {
      "cell_type": "markdown",
      "metadata": {
        "id": "view-in-github",
        "colab_type": "text"
      },
      "source": [
        "<a href=\"https://colab.research.google.com/github/samirsoft-ux/2021-01_Algorithmic_Complexity/blob/main/3%C2%B0_Python_29_03_2021.ipynb\" target=\"_parent\"><img src=\"https://colab.research.google.com/assets/colab-badge.svg\" alt=\"Open In Colab\"/></a>"
      ]
    },
    {
      "cell_type": "markdown",
      "metadata": {
        "id": "opiTowkqpKoK"
      },
      "source": [
        "## Brute Force"
      ]
    },
    {
      "cell_type": "code",
      "metadata": {
        "id": "2fOhJ-dWmkHm"
      },
      "source": [
        "# Para definir una función en Python usamos \"def\"\n",
        "def selectionSort(A): \n",
        "  n = len(A) # \"len\" función que nos retorna el número de elementos de un arreglo\n",
        "  for i in range(n-1):\n",
        "    min_pos = i\n",
        "    for j in range(i+1, n):\n",
        "      if A[j] < A[min_pos]:\n",
        "        min_pos = j\n",
        "\n",
        "    if min_pos != i:\n",
        "      A[min_pos], A[i] = A[i], A[min_pos]"
      ],
      "execution_count": 1,
      "outputs": []
    },
    {
      "cell_type": "code",
      "metadata": {
        "colab": {
          "base_uri": "https://localhost:8080/"
        },
        "id": "BWy6c_CEDQln",
        "outputId": "0ca1ee40-ccc5-4edb-8d8a-e9fd417f852e"
      },
      "source": [
        "X = [5, 8, 1, 9, 3, 10, 2, 7, 6, 4]\n",
        "selectionSort(X)\n",
        "print(X)"
      ],
      "execution_count": 2,
      "outputs": [
        {
          "output_type": "stream",
          "text": [
            "[1, 2, 3, 4, 5, 6, 7, 8, 9, 10]\n"
          ],
          "name": "stdout"
        }
      ]
    },
    {
      "cell_type": "code",
      "metadata": {
        "id": "nh43hOYrDspI"
      },
      "source": [
        "def bubbleSort(A):\n",
        "  n = len(A)\n",
        "  for i in range(n-1):\n",
        "    for j in range(n-1-i):\n",
        "      if A[j] > A[j+1]:\n",
        "        A[j], A[j+1] = A[j+1], A[j]"
      ],
      "execution_count": 3,
      "outputs": []
    },
    {
      "cell_type": "code",
      "metadata": {
        "colab": {
          "base_uri": "https://localhost:8080/"
        },
        "id": "jmTpZObmMQ_F",
        "outputId": "9b18cb65-b105-417e-bfa3-f278fc23d409"
      },
      "source": [
        "X = [5, 8, 1, 9, 3, 10, 2, 7, 6, 4]\n",
        "bubbleSort(X)\n",
        "print(X)"
      ],
      "execution_count": 4,
      "outputs": [
        {
          "output_type": "stream",
          "text": [
            "[1, 2, 3, 4, 5, 6, 7, 8, 9, 10]\n"
          ],
          "name": "stdout"
        }
      ]
    },
    {
      "cell_type": "markdown",
      "metadata": {
        "id": "u0uDymazM45c"
      },
      "source": [
        "## String Matching brute force algorithm"
      ]
    },
    {
      "cell_type": "code",
      "metadata": {
        "id": "fNvk1DVSMaVe"
      },
      "source": [
        "def stringMatching(p, t):\n",
        "  l = len(p)\n",
        "  n = len(t)\n",
        "  results = []\n",
        "  for i in range(n-l):\n",
        "    if p == t[i:i+l]:\n",
        "      results.append(i)\n",
        "  return results"
      ],
      "execution_count": 5,
      "outputs": []
    },
    {
      "cell_type": "code",
      "metadata": {
        "colab": {
          "base_uri": "https://localhost:8080/"
        },
        "id": "13mnj1OrNvz8",
        "outputId": "6d57936d-0f2d-4f1c-8198-5ead7bb65320"
      },
      "source": [
        "stringMatching(\"rac\",\"abracadabracalamazoo\")"
      ],
      "execution_count": 8,
      "outputs": [
        {
          "output_type": "execute_result",
          "data": {
            "text/plain": [
              "[2, 9]"
            ]
          },
          "metadata": {
            "tags": []
          },
          "execution_count": 8
        }
      ]
    },
    {
      "cell_type": "code",
      "metadata": {
        "id": "7PTXQ3HAN2Qs"
      },
      "source": [
        ""
      ],
      "execution_count": null,
      "outputs": []
    }
  ]
}