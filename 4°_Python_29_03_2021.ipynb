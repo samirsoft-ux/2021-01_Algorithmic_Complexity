{
  "nbformat": 4,
  "nbformat_minor": 0,
  "metadata": {
    "colab": {
      "name": "4° Python_29/03/2021.ipynb",
      "provenance": [],
      "collapsed_sections": [],
      "authorship_tag": "ABX9TyMzOjZDAILbrLPo/CNcbS88",
      "include_colab_link": true
    },
    "kernelspec": {
      "name": "python3",
      "display_name": "Python 3"
    },
    "language_info": {
      "name": "python"
    }
  },
  "cells": [
    {
      "cell_type": "markdown",
      "metadata": {
        "id": "view-in-github",
        "colab_type": "text"
      },
      "source": [
        "<a href=\"https://colab.research.google.com/github/samirsoft-ux/2021-01_Algorithmic_Complexity/blob/main/4%C2%B0_Python_29_03_2021.ipynb\" target=\"_parent\"><img src=\"https://colab.research.google.com/assets/colab-badge.svg\" alt=\"Open In Colab\"/></a>"
      ]
    },
    {
      "cell_type": "markdown",
      "metadata": {
        "id": "EL1sgk72S6Dk"
      },
      "source": [
        "##BackTracking\n",
        "# N-queens"
      ]
    },
    {
      "cell_type": "code",
      "metadata": {
        "id": "_GWenZTAS2o0"
      },
      "source": [
        "import matplotlib.pyplot as plt\n",
        "import numpy as np"
      ],
      "execution_count": 2,
      "outputs": []
    },
    {
      "cell_type": "code",
      "metadata": {
        "id": "4RV_SzH5TRRV"
      },
      "source": [
        "def draw(t):\n",
        "  n = len(t)\n",
        "  tablero = np.zeros((n, n, 3))\n",
        "  tablero += 0.8\n",
        "  tablero[::2, ::2] = 1\n",
        "  tablero[1::2, 1::2] = 1\n",
        "\n",
        "  fig, ax = plt.subplots()\n",
        "  ax.imshow(tablero, interpolation='nearest')\n",
        "\n",
        "  for y, x in enumerate(t):\n",
        "    ax.text(x, y, u'\\u2655', size=30, ha='center', va='center')\n",
        "\n",
        "  ax.set(xticks=[], yticks=[])\n",
        "  ax.axis('image')\n",
        "\n",
        "  plt.show()"
      ],
      "execution_count": 16,
      "outputs": []
    },
    {
      "cell_type": "code",
      "metadata": {
        "colab": {
          "base_uri": "https://localhost:8080/",
          "height": 252
        },
        "id": "3FqQXGrJUq4L",
        "outputId": "df786924-c8ab-4ad1-90d7-30b346120fb4"
      },
      "source": [
        "draw([1, 3, -1, -1])"
      ],
      "execution_count": 17,
      "outputs": [
        {
          "output_type": "display_data",
          "data": {
            "image/png": "[encoded data removed]",
            "text/plain": [
              "<Figure size 432x288 with 1 Axes>"
            ]
          },
          "metadata": {
            "tags": []
          }
        }
      ]
    },
    {
      "cell_type": "code",
      "metadata": {
        "id": "_XEfytiZVprA"
      },
      "source": [
        "def isLegal(board, row, column):\n",
        "  n = len(board)\n",
        "  for i in range(row):\n",
        "    if board[i] == column:\n",
        "      return False\n",
        "    dif = row - i\n",
        "    if board[i] + dif == column or board[i] - dif == column:\n",
        "      return False\n",
        "  return True"
      ],
      "execution_count": 8,
      "outputs": []
    },
    {
      "cell_type": "code",
      "metadata": {
        "colab": {
          "base_uri": "https://localhost:8080/"
        },
        "id": "PFlVQdryihPB",
        "outputId": "98f91956-321d-4e07-cb63-b7ede169737c"
      },
      "source": [
        "isLegal([1, 3, -1, -1], 2, 2)"
      ],
      "execution_count": 15,
      "outputs": [
        {
          "output_type": "execute_result",
          "data": {
            "text/plain": [
              "False"
            ]
          },
          "metadata": {
            "tags": []
          },
          "execution_count": 15
        }
      ]
    },
    {
      "cell_type": "code",
      "metadata": {
        "id": "5w3wleFOiueb"
      },
      "source": [
        "def nQueens(n, row, board):\n",
        "  if row < n:\n",
        "    for column in range(n):\n",
        "      if isLegal(board, row, column):\n",
        "        board[row] = column\n",
        "        nQueens(n, row + 1, board)\n",
        "  else:\n",
        "    draw(board)"
      ],
      "execution_count": 20,
      "outputs": []
    },
    {
      "cell_type": "code",
      "metadata": {
        "colab": {
          "base_uri": "https://localhost:8080/"
        },
        "id": "NUFYik7CkvK3",
        "outputId": "cef20d21-f96c-4520-93cc-0f27b3c35276"
      },
      "source": [
        "n = 5\n",
        "[10]*n"
      ],
      "execution_count": 23,
      "outputs": [
        {
          "output_type": "execute_result",
          "data": {
            "text/plain": [
              "[10, 10, 10, 10, 10]"
            ]
          },
          "metadata": {
            "tags": []
          },
          "execution_count": 23
        }
      ]
    },
    {
      "cell_type": "code",
      "metadata": {
        "colab": {
          "base_uri": "https://localhost:8080/",
          "height": 487
        },
        "id": "uisjxZNwkFP8",
        "outputId": "ebd3d380-1a86-4554-9e19-e13b01f2eb5e"
      },
      "source": [
        "#nQueens(4, 0, [-1, -1, -1, -1])\n",
        "n = 4\n",
        "nQueens(4, 0, [-1]*n)"
      ],
      "execution_count": 22,
      "outputs": [
        {
          "output_type": "display_data",
          "data": {
            "image/png": "[encoded data removed]",
            "text/plain": [
              "<Figure size 432x288 with 1 Axes>"
            ]
          },
          "metadata": {
            "tags": []
          }
        },
        {
          "output_type": "display_data",
          "data": {
            "image/png": "[encoded data removed]",
            "text/plain": [
              "<Figure size 432x288 with 1 Axes>"
            ]
          },
          "metadata": {
            "tags": []
          }
        }
      ]
    },
    {
      "cell_type": "code",
      "metadata": {
        "id": "TUEMrSrakMkK"
      },
      "source": [
        ""
      ],
      "execution_count": null,
      "outputs": []
    }
  ]
}